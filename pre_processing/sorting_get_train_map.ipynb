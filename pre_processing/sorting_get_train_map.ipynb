{
 "cells": [
  {
   "cell_type": "code",
   "execution_count": 18,
   "metadata": {},
   "outputs": [],
   "source": [
    "import soundfile as sf\n",
    "import torchaudio\n",
    "from pesq import pesq\n",
    "import os\n",
    "import pickle"
   ]
  },
  {
   "cell_type": "code",
   "execution_count": 16,
   "metadata": {},
   "outputs": [],
   "source": [
    "data, rate = torchaudio.load(\"/workspace/CantinaBand3.wav\")"
   ]
  },
  {
   "cell_type": "code",
   "execution_count": 20,
   "metadata": {},
   "outputs": [
    {
     "name": "stdout",
     "output_type": "stream",
     "text": [
      "1.0346230268478394\n"
     ]
    }
   ],
   "source": [
    "ref, rate_1 = sf.read(\"/workspace/train_clean.wav\")\n",
    "deg, rate_2 = sf.read(\"/workspace/train_noise.wav\")\n",
    "print(pesq(rate_1, ref, deg, 'wb'))"
   ]
  },
  {
   "cell_type": "code",
   "execution_count": 10,
   "metadata": {},
   "outputs": [
    {
     "data": {
      "text/plain": [
       "83656"
      ]
     },
     "execution_count": 10,
     "metadata": {},
     "output_type": "execute_result"
    }
   ],
   "source": [
    "len(os.listdir('/workspace/data/train'))"
   ]
  },
  {
   "cell_type": "code",
   "execution_count": 14,
   "metadata": {},
   "outputs": [],
   "source": [
    "root = '/workspace/data/train'\n",
    "train_map = {}\n",
    "\n",
    "for flac_name in os.listdir(root):\n",
    "    if flac_name.endswith('.flac'):\n",
    "        if flac_name.split('_')[0] == 'mixed':\n",
    "            number = flac_name.split('_')[1]\n",
    "            clean_file_name = 'vocal_'+ number + '.flac'\n",
    "            noise_file_path = os.path.join(root, flac_name)\n",
    "            clean_file_path = os.path.join(root, clean_file_name)\n",
    "            train_map[noise_file_path] = clean_file_path"
   ]
  },
  {
   "cell_type": "code",
   "execution_count": 16,
   "metadata": {},
   "outputs": [
    {
     "data": {
      "text/plain": [
       "41828"
      ]
     },
     "execution_count": 16,
     "metadata": {},
     "output_type": "execute_result"
    }
   ],
   "source": [
    "len(train_map)"
   ]
  },
  {
   "cell_type": "code",
   "execution_count": 19,
   "metadata": {},
   "outputs": [],
   "source": [
    "with open('/workspace/SE_2022/train_map.pkl', 'wb') as f:\n",
    "    pickle.dump(train_map, f)\n",
    "\n",
    "# with open('saved_dictionary.pkl', 'rb') as f:\n",
    "#     loaded_dict = pickle.load(f)"
   ]
  }
 ],
 "metadata": {
  "interpreter": {
   "hash": "d4d1e4263499bec80672ea0156c357c1ee493ec2b1c70f0acce89fc37c4a6abe"
  },
  "kernelspec": {
   "display_name": "Python 3.7.11 ('base')",
   "language": "python",
   "name": "python3"
  },
  "language_info": {
   "codemirror_mode": {
    "name": "ipython",
    "version": 3
   },
   "file_extension": ".py",
   "mimetype": "text/x-python",
   "name": "python",
   "nbconvert_exporter": "python",
   "pygments_lexer": "ipython3",
   "version": "3.7.11"
  },
  "orig_nbformat": 4
 },
 "nbformat": 4,
 "nbformat_minor": 2
}
