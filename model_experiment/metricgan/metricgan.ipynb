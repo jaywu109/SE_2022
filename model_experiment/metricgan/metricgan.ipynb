{
 "cells": [
  {
   "cell_type": "code",
   "execution_count": 22,
   "metadata": {},
   "outputs": [],
   "source": [
    "import os\n",
    "import time\n",
    "import asyncio\n",
    "from tqdm import tqdm\n",
    "# import tqdm\n",
    "# import tqdm.asyncio\n",
    "import numpy as np\n",
    "import soundfile as sf\n",
    "\n",
    "import torch\n",
    "import torchaudio\n",
    "from speechbrain.pretrained import SpectralMaskEnhancement\n",
    "\n",
    "from pesq import pesq\n",
    "device = torch.device('cuda:2')"
   ]
  },
  {
   "cell_type": "code",
   "execution_count": 2,
   "metadata": {},
   "outputs": [],
   "source": [
    "enhance_model = SpectralMaskEnhancement.from_hparams(\n",
    "    source=\"speechbrain/metricgan-plus-voicebank\",\n",
    "    savedir=\"/workspace/SE_2022/model_experiment/metricgan\").to(device)\n",
    "enhance_model.device = device"
   ]
  },
  {
   "cell_type": "markdown",
   "metadata": {},
   "source": [
    "### Prediction"
   ]
  },
  {
   "cell_type": "code",
   "execution_count": 3,
   "metadata": {},
   "outputs": [
    {
     "name": "stderr",
     "output_type": "stream",
     "text": [
      "100%|██████████| 1000/1000 [00:27<00:00, 36.51it/s]\n"
     ]
    }
   ],
   "source": [
    "root = '/workspace/data/test'\n",
    "output_dir = '/workspace/output_data/metricgan/test'\n",
    "\n",
    "for flac_name in tqdm(os.listdir(root)):\n",
    "    if flac_name.endswith('.flac'):\n",
    "        number = flac_name.split('_')[1]\n",
    "        clean_file_name = 'vocal_'+ number + '.flac'\n",
    "        noise_file_path = os.path.join(root, flac_name)\n",
    "        clean_file_path = os.path.join(output_dir, clean_file_name)\n",
    "        noisy = enhance_model.load_audio(noise_file_path, savedir= '/workspace/data/temp').unsqueeze(0).to(device)\n",
    "        clean = enhance_model.enhance_batch(noisy, lengths=torch.tensor([1.]))\n",
    "        torchaudio.save(clean_file_path, clean.cpu(), 16000)"
   ]
  },
  {
   "cell_type": "code",
   "execution_count": 4,
   "metadata": {},
   "outputs": [
    {
     "name": "stderr",
     "output_type": "stream",
     "text": [
      "100%|██████████| 83656/83656 [12:33<00:00, 111.01it/s]\n"
     ]
    }
   ],
   "source": [
    "root = '/workspace/data/train'\n",
    "output_dir = '/workspace/output_data/metricgan/train'\n",
    "\n",
    "for flac_name in tqdm(os.listdir(root)):\n",
    "    if flac_name.endswith('.flac'):\n",
    "        if flac_name.split('_')[0] == 'mixed':\n",
    "            number = flac_name.split('_')[1]\n",
    "            clean_file_name = 'vocal_'+ number + '.flac'\n",
    "            noise_file_path = os.path.join(root, flac_name)\n",
    "            clean_file_path = os.path.join(output_dir, clean_file_name)\n",
    "            noisy = enhance_model.load_audio(noise_file_path, savedir= '/workspace/data/temp').unsqueeze(0).to(device)\n",
    "            clean = enhance_model.enhance_batch(noisy, lengths=torch.tensor([1.]))\n",
    "            torchaudio.save(clean_file_path, clean.cpu(), 16000)"
   ]
  },
  {
   "cell_type": "markdown",
   "metadata": {},
   "source": [
    "### Evaluation"
   ]
  },
  {
   "cell_type": "code",
   "execution_count": 7,
   "metadata": {},
   "outputs": [],
   "source": [
    "async def get_pesq(noise_file_path, clean_file_path):\n",
    "    noise, _ = sf.read(noise_file_path)\n",
    "    clean, rate = sf.read(clean_file_path)\n",
    "    return pesq(rate, clean, noise, 'wb')\n",
    "    \n",
    "async def get_pesq_async(noise_file_path, clean_file_path):\n",
    "    try:\n",
    "        noise, _ = sf.read(noise_file_path)\n",
    "        clean, rate = sf.read(clean_file_path)        \n",
    "        score = await pesq(rate, clean, noise, 'wb')\n",
    "        return score\n",
    "    except Exception as e:\n",
    "        return None\n",
    "# async def get_pesq_async(noise_file_path, clean_file_path):\n",
    "#     try:\n",
    "#         score = await get_pesq(noise_file_path, clean_file_path)\n",
    "#         return score\n",
    "#     except Exception as e:\n",
    "#         return None\n",
    "\n",
    "async def train_pesq_truth():\n",
    "\n",
    "    tasks = []\n",
    "    root = '/workspace/data/train'\n",
    "    flac_name_list = []\n",
    "    file_list = os.listdir(root)[:100]\n",
    "\n",
    "    for flac_name in file_list:\n",
    "        if flac_name.endswith('.flac'):\n",
    "            if flac_name.split('_')[0] == 'mixed':\n",
    "                flac_name_list.append(flac_name)\n",
    "                number = flac_name.split('_')[1]\n",
    "                clean_file_name = 'vocal_'+ number + '.flac'\n",
    "                noise_file_path = os.path.join(root, flac_name)\n",
    "                clean_file_path = os.path.join(root, clean_file_name)\n",
    "                tasks.append(asyncio.create_task(get_pesq_async(noise_file_path, clean_file_path)))\n",
    "    score_result = [\n",
    "        await f\n",
    "        for f in tqdm.asyncio.tqdm.as_completed(tasks)\n",
    "    ]\n",
    "\n",
    "    return score_result"
   ]
  },
  {
   "cell_type": "code",
   "execution_count": 8,
   "metadata": {},
   "outputs": [
    {
     "name": "stderr",
     "output_type": "stream",
     "text": [
      "100%|██████████| 100/100 [00:12<00:00,  7.88it/s]"
     ]
    },
    {
     "name": "stdout",
     "output_type": "stream",
     "text": [
      "12.768901099450886\n"
     ]
    },
    {
     "name": "stderr",
     "output_type": "stream",
     "text": [
      "\n"
     ]
    }
   ],
   "source": [
    "start = time.perf_counter()\n",
    "score_result = await train_pesq_truth()\n",
    "print(time.perf_counter() - start)\n"
   ]
  },
  {
   "cell_type": "code",
   "execution_count": null,
   "metadata": {},
   "outputs": [],
   "source": [
    "score_result_final = []\n",
    "error_name_list = []\n",
    "for i, score in enumerate(score_result):\n",
    "    if score is not None:\n",
    "        score_result_final.append(score)\n",
    "    else:\n",
    "        error_name_list.append(flac_name_list[i])\n",
    "print('train_pesq_truth:', np.array(score_result).mean())"
   ]
  },
  {
   "cell_type": "code",
   "execution_count": 15,
   "metadata": {},
   "outputs": [
    {
     "name": "stderr",
     "output_type": "stream",
     "text": [
      "100%|██████████| 100/100 [00:12<00:00,  7.88it/s]\n"
     ]
    }
   ],
   "source": [
    "root = '/workspace/data/train'\n",
    "truth_score = []\n",
    "name_list = os.listdir(root)[:100]\n",
    "\n",
    "for flac_name in tqdm(name_list):\n",
    "    if flac_name.endswith('.flac'):\n",
    "        if flac_name.split('_')[0] == 'mixed':\n",
    "            number = flac_name.split('_')[1]\n",
    "            clean_file_name = 'vocal_'+ number + '.flac'\n",
    "            noise_file_path = os.path.join(root, flac_name)\n",
    "            clean_file_path = os.path.join(root, clean_file_name)\n",
    "            noise, _ = sf.read(noise_file_path)\n",
    "            clean, rate = sf.read(clean_file_path)\n",
    "            truth_score.append(pesq(rate, clean, noise, 'wb'))"
   ]
  }
 ],
 "metadata": {
  "interpreter": {
   "hash": "d4d1e4263499bec80672ea0156c357c1ee493ec2b1c70f0acce89fc37c4a6abe"
  },
  "kernelspec": {
   "display_name": "Python 3.7.11 ('base')",
   "language": "python",
   "name": "python3"
  },
  "language_info": {
   "codemirror_mode": {
    "name": "ipython",
    "version": 3
   },
   "file_extension": ".py",
   "mimetype": "text/x-python",
   "name": "python",
   "nbconvert_exporter": "python",
   "pygments_lexer": "ipython3",
   "version": "3.7.11"
  },
  "orig_nbformat": 4
 },
 "nbformat": 4,
 "nbformat_minor": 2
}
