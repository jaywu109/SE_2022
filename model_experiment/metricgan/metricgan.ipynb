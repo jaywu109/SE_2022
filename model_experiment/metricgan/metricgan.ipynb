{
 "cells": [
  {
   "cell_type": "code",
   "execution_count": 32,
   "metadata": {},
   "outputs": [],
   "source": [
    "import os\n",
    "import time\n",
    "import asyncio\n",
    "from tqdm import tqdm\n",
    "import numpy as np\n",
    "import soundfile as sf\n",
    "\n",
    "import torch\n",
    "import torchaudio\n",
    "from speechbrain.pretrained import SpectralMaskEnhancement\n",
    "\n",
    "from pesq import pesq\n",
    "device = torch.device('cuda:2')"
   ]
  },
  {
   "cell_type": "code",
   "execution_count": 2,
   "metadata": {},
   "outputs": [],
   "source": [
    "enhance_model = SpectralMaskEnhancement.from_hparams(\n",
    "    source=\"speechbrain/metricgan-plus-voicebank\",\n",
    "    savedir=\"/workspace/SE_2022/model_experiment/metricgan\").to(device)\n",
    "enhance_model.device = device"
   ]
  },
  {
   "cell_type": "markdown",
   "metadata": {},
   "source": [
    "### Prediction"
   ]
  },
  {
   "cell_type": "code",
   "execution_count": 3,
   "metadata": {},
   "outputs": [
    {
     "name": "stderr",
     "output_type": "stream",
     "text": [
      "100%|██████████| 1000/1000 [00:27<00:00, 36.51it/s]\n"
     ]
    }
   ],
   "source": [
    "root = '/workspace/data/test'\n",
    "output_dir = '/workspace/output_data/metricgan/test'\n",
    "\n",
    "for flac_name in tqdm(os.listdir(root)):\n",
    "    if flac_name.endswith('.flac'):\n",
    "        number = flac_name.split('_')[1]\n",
    "        clean_file_name = 'vocal_'+ number + '.flac'\n",
    "        noise_file_path = os.path.join(root, flac_name)\n",
    "        clean_file_path = os.path.join(output_dir, clean_file_name)\n",
    "        noisy = enhance_model.load_audio(noise_file_path, savedir= '/workspace/data/temp').unsqueeze(0).to(device)\n",
    "        clean = enhance_model.enhance_batch(noisy, lengths=torch.tensor([1.]))\n",
    "        torchaudio.save(clean_file_path, clean.cpu(), 16000)"
   ]
  },
  {
   "cell_type": "code",
   "execution_count": 4,
   "metadata": {},
   "outputs": [
    {
     "name": "stderr",
     "output_type": "stream",
     "text": [
      "100%|██████████| 83656/83656 [12:33<00:00, 111.01it/s]\n"
     ]
    }
   ],
   "source": [
    "root = '/workspace/data/train'\n",
    "output_dir = '/workspace/output_data/metricgan/train'\n",
    "\n",
    "for flac_name in tqdm(os.listdir(root)):\n",
    "    if flac_name.endswith('.flac'):\n",
    "        if flac_name.split('_')[0] == 'mixed':\n",
    "            number = flac_name.split('_')[1]\n",
    "            clean_file_name = 'vocal_'+ number + '.flac'\n",
    "            noise_file_path = os.path.join(root, flac_name)\n",
    "            clean_file_path = os.path.join(output_dir, clean_file_name)\n",
    "            noisy = enhance_model.load_audio(noise_file_path, savedir= '/workspace/data/temp').unsqueeze(0).to(device)\n",
    "            clean = enhance_model.enhance_batch(noisy, lengths=torch.tensor([1.]))\n",
    "            torchaudio.save(clean_file_path, clean.cpu(), 16000)"
   ]
  },
  {
   "cell_type": "markdown",
   "metadata": {},
   "source": [
    "### Evaluation"
   ]
  },
  {
   "cell_type": "code",
   "execution_count": 33,
   "metadata": {},
   "outputs": [],
   "source": [
    "async def get_pesq(noise_file_path, clean_file_path):\n",
    "    noise, _ = sf.read(noise_file_path)\n",
    "    clean, rate = sf.read(clean_file_path)\n",
    "    return pesq(rate, clean, noise, 'wb')\n",
    "    \n",
    "async def get_pesq_async(noise_file_path, clean_file_path):\n",
    "    try:\n",
    "        score = await get_pesq(noise_file_path, clean_file_path)\n",
    "        return score\n",
    "    except Exception as e:\n",
    "        return None\n",
    "\n",
    "async def train_pesq_truth():\n",
    "\n",
    "    tasks = []\n",
    "    root = '/workspace/data/train'\n",
    "    flac_name_list = []\n",
    "    file_list = os.listdir(root)\n",
    "\n",
    "    for flac_name in file_list:\n",
    "        if flac_name.endswith('.flac'):\n",
    "            if flac_name.split('_')[0] == 'mixed':\n",
    "                flac_name_list.append(flac_name)\n",
    "                number = flac_name.split('_')[1]\n",
    "                clean_file_name = 'vocal_'+ number + '.flac'\n",
    "                noise_file_path = os.path.join(root, flac_name)\n",
    "                clean_file_path = os.path.join(root, clean_file_name)\n",
    "                tasks.append(asyncio.create_task(get_pesq_async(noise_file_path, clean_file_path)))\n",
    "\n",
    "    score_result = await asyncio.gather(*tasks)\n",
    "    score_result_final = []\n",
    "    error_name_list = []\n",
    "    for i, score in enumerate(score_result):\n",
    "        if score is not None:\n",
    "            score_result_final.append(score)\n",
    "        else:\n",
    "            error_name_list.append(flac_name_list[i])\n",
    "    return score_result, error_name_list"
   ]
  },
  {
   "cell_type": "code",
   "execution_count": 34,
   "metadata": {},
   "outputs": [],
   "source": [
    "start = time.perf_counter()\n",
    "score_result, error_name_list = await train_pesq_truth()\n",
    "print(time.perf_counter() - start)\n",
    "print('train_pesq_truth:', np.array(score_result).mean())"
   ]
  },
  {
   "cell_type": "code",
   "execution_count": null,
   "metadata": {},
   "outputs": [],
   "source": []
  },
  {
   "cell_type": "code",
   "execution_count": 14,
   "metadata": {},
   "outputs": [
    {
     "name": "stderr",
     "output_type": "stream",
     "text": [
      "  0%|          | 37/83656 [00:05<3:09:04,  7.37it/s]\n"
     ]
    },
    {
     "ename": "KeyboardInterrupt",
     "evalue": "",
     "output_type": "error",
     "traceback": [
      "\u001b[0;31m---------------------------------------------------------------------------\u001b[0m",
      "\u001b[0;31mKeyboardInterrupt\u001b[0m                         Traceback (most recent call last)",
      "\u001b[0;32m/tmp/ipykernel_143068/3087037817.py\u001b[0m in \u001b[0;36m<module>\u001b[0;34m\u001b[0m\n\u001b[1;32m     11\u001b[0m             \u001b[0mnoise\u001b[0m\u001b[0;34m,\u001b[0m \u001b[0m_\u001b[0m \u001b[0;34m=\u001b[0m \u001b[0msf\u001b[0m\u001b[0;34m.\u001b[0m\u001b[0mread\u001b[0m\u001b[0;34m(\u001b[0m\u001b[0mnoise_file_path\u001b[0m\u001b[0;34m)\u001b[0m\u001b[0;34m\u001b[0m\u001b[0;34m\u001b[0m\u001b[0m\n\u001b[1;32m     12\u001b[0m             \u001b[0mclean\u001b[0m\u001b[0;34m,\u001b[0m \u001b[0mrate\u001b[0m \u001b[0;34m=\u001b[0m \u001b[0msf\u001b[0m\u001b[0;34m.\u001b[0m\u001b[0mread\u001b[0m\u001b[0;34m(\u001b[0m\u001b[0mclean_file_path\u001b[0m\u001b[0;34m)\u001b[0m\u001b[0;34m\u001b[0m\u001b[0;34m\u001b[0m\u001b[0m\n\u001b[0;32m---> 13\u001b[0;31m             \u001b[0mtruth_score\u001b[0m\u001b[0;34m.\u001b[0m\u001b[0mappend\u001b[0m\u001b[0;34m(\u001b[0m\u001b[0mpesq\u001b[0m\u001b[0;34m(\u001b[0m\u001b[0mrate\u001b[0m\u001b[0;34m,\u001b[0m \u001b[0mclean\u001b[0m\u001b[0;34m,\u001b[0m \u001b[0mnoise\u001b[0m\u001b[0;34m,\u001b[0m \u001b[0;34m'wb'\u001b[0m\u001b[0;34m)\u001b[0m\u001b[0;34m)\u001b[0m\u001b[0;34m\u001b[0m\u001b[0;34m\u001b[0m\u001b[0m\n\u001b[0m",
      "\u001b[0;32m/opt/conda/lib/python3.7/site-packages/pesq/__init__.py\u001b[0m in \u001b[0;36mpesq\u001b[0;34m(fs, ref, deg, mode, on_error)\u001b[0m\n\u001b[1;32m     54\u001b[0m             \u001b[0;34m(\u001b[0m\u001b[0mref\u001b[0m\u001b[0;34m/\u001b[0m\u001b[0mmaxval\u001b[0m\u001b[0;34m)\u001b[0m\u001b[0;34m.\u001b[0m\u001b[0mastype\u001b[0m\u001b[0;34m(\u001b[0m\u001b[0mnp\u001b[0m\u001b[0;34m.\u001b[0m\u001b[0mfloat32\u001b[0m\u001b[0;34m)\u001b[0m\u001b[0;34m,\u001b[0m\u001b[0;34m\u001b[0m\u001b[0;34m\u001b[0m\u001b[0m\n\u001b[1;32m     55\u001b[0m             \u001b[0;34m(\u001b[0m\u001b[0mdeg\u001b[0m\u001b[0;34m/\u001b[0m\u001b[0mmaxval\u001b[0m\u001b[0;34m)\u001b[0m\u001b[0;34m.\u001b[0m\u001b[0mastype\u001b[0m\u001b[0;34m(\u001b[0m\u001b[0mnp\u001b[0m\u001b[0;34m.\u001b[0m\u001b[0mfloat32\u001b[0m\u001b[0;34m)\u001b[0m\u001b[0;34m,\u001b[0m\u001b[0;34m\u001b[0m\u001b[0;34m\u001b[0m\u001b[0m\n\u001b[0;32m---> 56\u001b[0;31m             \u001b[0mmode_code\u001b[0m\u001b[0;34m\u001b[0m\u001b[0;34m\u001b[0m\u001b[0m\n\u001b[0m\u001b[1;32m     57\u001b[0m         )\n",
      "\u001b[0;31mKeyboardInterrupt\u001b[0m: "
     ]
    }
   ],
   "source": [
    "root = '/workspace/data/train'\n",
    "truth_score = []\n",
    "\n",
    "for flac_name in tqdm(os.listdir(root)):\n",
    "    if flac_name.endswith('.flac'):\n",
    "        if flac_name.split('_')[0] == 'mixed':\n",
    "            number = flac_name.split('_')[1]\n",
    "            clean_file_name = 'vocal_'+ number + '.flac'\n",
    "            noise_file_path = os.path.join(root, flac_name)\n",
    "            clean_file_path = os.path.join(root, clean_file_name)\n",
    "            noise, _ = sf.read(noise_file_path)\n",
    "            clean, rate = sf.read(clean_file_path)\n",
    "            truth_score.append(pesq(rate, clean, noise, 'wb'))"
   ]
  },
  {
   "cell_type": "code",
   "execution_count": 6,
   "metadata": {},
   "outputs": [],
   "source": [
    "flac_name = next(iter(os.listdir(root)))"
   ]
  },
  {
   "cell_type": "code",
   "execution_count": 7,
   "metadata": {},
   "outputs": [
    {
     "data": {
      "text/plain": [
       "'mixed_01001_cleaner.flac'"
      ]
     },
     "execution_count": 7,
     "metadata": {},
     "output_type": "execute_result"
    }
   ],
   "source": [
    "flac_name"
   ]
  }
 ],
 "metadata": {
  "interpreter": {
   "hash": "d4d1e4263499bec80672ea0156c357c1ee493ec2b1c70f0acce89fc37c4a6abe"
  },
  "kernelspec": {
   "display_name": "Python 3.7.11 ('base')",
   "language": "python",
   "name": "python3"
  },
  "language_info": {
   "codemirror_mode": {
    "name": "ipython",
    "version": 3
   },
   "file_extension": ".py",
   "mimetype": "text/x-python",
   "name": "python",
   "nbconvert_exporter": "python",
   "pygments_lexer": "ipython3",
   "version": "3.7.11"
  },
  "orig_nbformat": 4
 },
 "nbformat": 4,
 "nbformat_minor": 2
}
