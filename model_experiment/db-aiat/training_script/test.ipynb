{
 "cells": [
  {
   "cell_type": "code",
   "execution_count": 1,
   "metadata": {},
   "outputs": [],
   "source": [
    "import warnings\n",
    "warnings.simplefilter(\"ignore\", UserWarning)\n",
    "\n",
    "import numpy as np\n",
    "import json\n",
    "import pickle \n",
    "import h5py\n",
    "import math\n",
    "import numpy as np\n",
    "import torch\n",
    "import torch.nn as nn\n",
    "from torch.utils.data import DataLoader, Dataset\n",
    "import random\n",
    "import soundfile as sf\n",
    "import os\n",
    "from pprint import pprint"
   ]
  },
  {
   "cell_type": "code",
   "execution_count": 2,
   "metadata": {},
   "outputs": [],
   "source": [
    "os.environ['CUDA_VISIBLE_DEVICES'] = '0 , 1, 2'\n",
    "torch.manual_seed(0)\n",
    "torch.cuda.manual_seed_all(0)\n",
    "np.random.seed(0)\n",
    "from aia_trans import dual_aia_trans_merge_crm\n",
    "from solver_merge import Solver\n",
    "from train_utils import parser_all, SEDataset, SEDataLoader, get_noise_clean_path\n",
    "args = parser_all.parse_args(args = [])\n",
    "model = dual_aia_trans_merge_crm().cuda()"
   ]
  },
  {
   "cell_type": "code",
   "execution_count": 3,
   "metadata": {},
   "outputs": [],
   "source": [
    "with open('/workspace/SE_2022/train_noise_by_type.pkl', 'rb') as f:\n",
    "    train_noise = pickle.load(f)\n",
    "\n",
    "with open('/workspace/SE_2022/val_noise_by_type.pkl', 'rb') as f:\n",
    "    val_noise = pickle.load(f)\n",
    "\n",
    "with open('/workspace/SE_2022/train_map.pkl', 'rb') as f:\n",
    "    noise_clean_map = pickle.load(f)\n",
    "\n",
    "data_dir = '/workspace/data/train'\n",
    "train_path_array = get_noise_clean_path(data_dir, train_noise, noise_clean_map)\n",
    "val_path_array = get_noise_clean_path(data_dir, val_noise, noise_clean_map)\n",
    "train_dataset = SEDataset(train_path_array, args.batch_size)\n",
    "val_dataset = SEDataset(val_path_array, args.batch_size)\n",
    "train_dataloader = SEDataLoader(data_set=train_dataset,\n",
    "                                batch_size=1,\n",
    "                                num_workers=args.num_workers,\n",
    "                                pin_memory=True)\n",
    "val_dataloader = SEDataLoader(data_set=val_dataset,\n",
    "                                batch_size=1,\n",
    "                                num_workers=args.num_workers,\n",
    "                                pin_memory=True)\n",
    "data = {'tr_loader': train_dataloader, 'cv_loader': val_dataloader}"
   ]
  },
  {
   "cell_type": "code",
   "execution_count": 4,
   "metadata": {},
   "outputs": [],
   "source": [
    "optimizer = torch.optim.Adam(model.parameters(),\n",
    "                                args.lr,\n",
    "                                weight_decay=args.l2)\n",
    "solver = Solver(data, model, optimizer, args)"
   ]
  },
  {
   "cell_type": "code",
   "execution_count": 5,
   "metadata": {},
   "outputs": [
    {
     "name": "stdout",
     "output_type": "stream",
     "text": [
      "Begin to train.....\n",
      "Epoch:1, Iter:0, the average_loss:0.445519, current_loss:0.445519, 1895 ms/batch.\n",
      "Epoch:1, Iter:1, the average_loss:0.318780, current_loss:0.192041, 1597 ms/batch.\n",
      "Epoch:1, Iter:2, the average_loss:0.281174, current_loss:0.205961, 1483 ms/batch.\n",
      "Epoch:1, Iter:3, the average_loss:0.266311, current_loss:0.221722, 1430 ms/batch.\n",
      "Epoch:1, Iter:4, the average_loss:0.265650, current_loss:0.263008, 1399 ms/batch.\n",
      "Epoch:1, Iter:5, the average_loss:0.264356, current_loss:0.257886, 1380 ms/batch.\n",
      "Epoch:1, Iter:6, the average_loss:0.243883, current_loss:0.121040, 1365 ms/batch.\n",
      "Epoch:1, Iter:7, the average_loss:0.239832, current_loss:0.211475, 1356 ms/batch.\n",
      "Epoch:1, Iter:8, the average_loss:0.226150, current_loss:0.116698, 1347 ms/batch.\n",
      "Epoch:1, Iter:9, the average_loss:0.227096, current_loss:0.235613, 1341 ms/batch.\n",
      "Epoch:1, Iter:10, the average_loss:0.230714, current_loss:0.266894, 1339 ms/batch.\n",
      "Epoch:1, Iter:11, the average_loss:0.222600, current_loss:0.133346, 1334 ms/batch.\n",
      "Epoch:1, Iter:12, the average_loss:0.224844, current_loss:0.251773, 1330 ms/batch.\n",
      "Epoch:1, Iter:13, the average_loss:0.223537, current_loss:0.206538, 1326 ms/batch.\n",
      "Epoch:1, Iter:14, the average_loss:0.220511, current_loss:0.178142, 1325 ms/batch.\n",
      "Epoch:1, Iter:15, the average_loss:0.218140, current_loss:0.182580, 1325 ms/batch.\n",
      "Epoch:1, Iter:16, the average_loss:0.219704, current_loss:0.244727, 1324 ms/batch.\n",
      "Epoch:1, Iter:17, the average_loss:0.217130, current_loss:0.173366, 1323 ms/batch.\n",
      "Epoch:1, Iter:18, the average_loss:0.212010, current_loss:0.119852, 1323 ms/batch.\n",
      "Epoch:1, Iter:19, the average_loss:0.213796, current_loss:0.247729, 1321 ms/batch.\n",
      "Epoch:1, Iter:20, the average_loss:0.209138, current_loss:0.115976, 1319 ms/batch.\n",
      "Epoch:1, Iter:21, the average_loss:0.210281, current_loss:0.234300, 1317 ms/batch.\n",
      "Epoch:1, Iter:22, the average_loss:0.207303, current_loss:0.141774, 1317 ms/batch.\n",
      "Epoch:1, Iter:23, the average_loss:0.209207, current_loss:0.253011, 1316 ms/batch.\n",
      "Epoch:1, Iter:24, the average_loss:0.207462, current_loss:0.165575, 1316 ms/batch.\n",
      "Epoch:1, Iter:25, the average_loss:0.207400, current_loss:0.205850, 1318 ms/batch.\n",
      "Epoch:1, Iter:26, the average_loss:0.204667, current_loss:0.133606, 1317 ms/batch.\n",
      "Epoch:1, Iter:27, the average_loss:0.202158, current_loss:0.134408, 1317 ms/batch.\n",
      "Epoch:1, Iter:28, the average_loss:0.205436, current_loss:0.297239, 1315 ms/batch.\n",
      "Epoch:1, Iter:29, the average_loss:0.205663, current_loss:0.212239, 1314 ms/batch.\n",
      "Epoch:1, Iter:30, the average_loss:0.206472, current_loss:0.230735, 1318 ms/batch.\n",
      "Epoch:1, Iter:31, the average_loss:0.203762, current_loss:0.119771, 1318 ms/batch.\n",
      "Epoch:1, Iter:32, the average_loss:0.203675, current_loss:0.200881, 1317 ms/batch.\n",
      "Epoch:1, Iter:33, the average_loss:0.200429, current_loss:0.093317, 1317 ms/batch.\n",
      "Epoch:1, Iter:34, the average_loss:0.197559, current_loss:0.099986, 1318 ms/batch.\n",
      "Epoch:1, Iter:35, the average_loss:0.198544, current_loss:0.232999, 1316 ms/batch.\n",
      "Epoch:1, Iter:36, the average_loss:0.202073, current_loss:0.329126, 1317 ms/batch.\n",
      "Epoch:1, Iter:37, the average_loss:0.203568, current_loss:0.258862, 1317 ms/batch.\n",
      "Epoch:1, Iter:38, the average_loss:0.204556, current_loss:0.242098, 1317 ms/batch.\n",
      "Epoch:1, Iter:39, the average_loss:0.204134, current_loss:0.187690, 1316 ms/batch.\n",
      "Epoch:1, Iter:40, the average_loss:0.203535, current_loss:0.179569, 1315 ms/batch.\n",
      "Epoch:1, Iter:41, the average_loss:0.202982, current_loss:0.180322, 1314 ms/batch.\n",
      "Epoch:1, Iter:42, the average_loss:0.202542, current_loss:0.184060, 1313 ms/batch.\n",
      "Epoch:1, Iter:43, the average_loss:0.201001, current_loss:0.134746, 1313 ms/batch.\n",
      "Epoch:1, Iter:44, the average_loss:0.200465, current_loss:0.176877, 1312 ms/batch.\n",
      "Epoch:1, Iter:45, the average_loss:0.201103, current_loss:0.229813, 1311 ms/batch.\n",
      "Epoch:1, Iter:46, the average_loss:0.201026, current_loss:0.197488, 1310 ms/batch.\n",
      "Epoch:1, Iter:47, the average_loss:0.199376, current_loss:0.121801, 1309 ms/batch.\n",
      "Epoch:1, Iter:48, the average_loss:0.201505, current_loss:0.303719, 1308 ms/batch.\n",
      "Epoch:1, Iter:49, the average_loss:0.201496, current_loss:0.201041, 1308 ms/batch.\n",
      "Epoch:1, Iter:50, the average_loss:0.199343, current_loss:0.091683, 1307 ms/batch.\n",
      "Epoch:1, Iter:51, the average_loss:0.198812, current_loss:0.171759, 1306 ms/batch.\n",
      "Epoch:1, Iter:52, the average_loss:0.199358, current_loss:0.227730, 1306 ms/batch.\n",
      "Epoch:1, Iter:53, the average_loss:0.201861, current_loss:0.334542, 1306 ms/batch.\n",
      "Epoch:1, Iter:54, the average_loss:0.200739, current_loss:0.140116, 1306 ms/batch.\n",
      "Epoch:1, Iter:55, the average_loss:0.199696, current_loss:0.142359, 1306 ms/batch.\n",
      "Epoch:1, Iter:56, the average_loss:0.198504, current_loss:0.131722, 1305 ms/batch.\n"
     ]
    },
    {
     "ename": "KeyboardInterrupt",
     "evalue": "",
     "output_type": "error",
     "traceback": [
      "\u001b[0;31m---------------------------------------------------------------------------\u001b[0m",
      "\u001b[0;31mKeyboardInterrupt\u001b[0m                         Traceback (most recent call last)",
      "\u001b[0;32m/tmp/ipykernel_307292/2999404631.py\u001b[0m in \u001b[0;36m<module>\u001b[0;34m\u001b[0m\n\u001b[0;32m----> 1\u001b[0;31m \u001b[0msolver\u001b[0m\u001b[0;34m.\u001b[0m\u001b[0mtrain\u001b[0m\u001b[0;34m(\u001b[0m\u001b[0;34m)\u001b[0m\u001b[0;34m\u001b[0m\u001b[0;34m\u001b[0m\u001b[0m\n\u001b[0m",
      "\u001b[0;32m/workspace/SE_2022/model_experiment/db-aiat/training_script/solver_merge.py\u001b[0m in \u001b[0;36mtrain\u001b[0;34m(self)\u001b[0m\n\u001b[1;32m     55\u001b[0m             \u001b[0mself\u001b[0m\u001b[0;34m.\u001b[0m\u001b[0mmodel\u001b[0m\u001b[0;34m.\u001b[0m\u001b[0mtrain\u001b[0m\u001b[0;34m(\u001b[0m\u001b[0;34m)\u001b[0m\u001b[0;34m\u001b[0m\u001b[0;34m\u001b[0m\u001b[0m\n\u001b[1;32m     56\u001b[0m             \u001b[0mstart\u001b[0m \u001b[0;34m=\u001b[0m \u001b[0mtime\u001b[0m\u001b[0;34m.\u001b[0m\u001b[0mtime\u001b[0m\u001b[0;34m(\u001b[0m\u001b[0;34m)\u001b[0m\u001b[0;34m\u001b[0m\u001b[0;34m\u001b[0m\u001b[0m\n\u001b[0;32m---> 57\u001b[0;31m             \u001b[0mtr_avg_loss\u001b[0m \u001b[0;34m=\u001b[0m \u001b[0mself\u001b[0m\u001b[0;34m.\u001b[0m\u001b[0mrun_one_epoch\u001b[0m\u001b[0;34m(\u001b[0m\u001b[0mepoch\u001b[0m\u001b[0;34m)\u001b[0m\u001b[0;34m\u001b[0m\u001b[0;34m\u001b[0m\u001b[0m\n\u001b[0m\u001b[1;32m     58\u001b[0m             \u001b[0mprint\u001b[0m\u001b[0;34m(\u001b[0m\u001b[0;34m'-'\u001b[0m \u001b[0;34m*\u001b[0m \u001b[0;36m90\u001b[0m\u001b[0;34m)\u001b[0m\u001b[0;34m\u001b[0m\u001b[0;34m\u001b[0m\u001b[0m\n\u001b[1;32m     59\u001b[0m             \u001b[0mprint\u001b[0m\u001b[0;34m(\u001b[0m\u001b[0;34m\"End of Epoch %d, Time: %4f s, Train_Loss:%5f\"\u001b[0m \u001b[0;34m%\u001b[0m \u001b[0;34m(\u001b[0m\u001b[0mint\u001b[0m\u001b[0;34m(\u001b[0m\u001b[0mepoch\u001b[0m\u001b[0;34m+\u001b[0m\u001b[0;36m1\u001b[0m\u001b[0;34m)\u001b[0m\u001b[0;34m,\u001b[0m \u001b[0mtime\u001b[0m\u001b[0;34m.\u001b[0m\u001b[0mtime\u001b[0m\u001b[0;34m(\u001b[0m\u001b[0;34m)\u001b[0m\u001b[0;34m-\u001b[0m\u001b[0mstart\u001b[0m\u001b[0;34m,\u001b[0m \u001b[0mtr_avg_loss\u001b[0m\u001b[0;34m)\u001b[0m\u001b[0;34m)\u001b[0m\u001b[0;34m\u001b[0m\u001b[0;34m\u001b[0m\u001b[0m\n",
      "\u001b[0;32m/workspace/SE_2022/model_experiment/db-aiat/training_script/solver_merge.py\u001b[0m in \u001b[0;36mrun_one_epoch\u001b[0;34m(self, epoch, cross_valid)\u001b[0m\n\u001b[1;32m    164\u001b[0m         \u001b[0mdata_loader\u001b[0m \u001b[0;34m=\u001b[0m \u001b[0mself\u001b[0m\u001b[0;34m.\u001b[0m\u001b[0mtr_loader\u001b[0m \u001b[0;32mif\u001b[0m \u001b[0;32mnot\u001b[0m \u001b[0mcross_valid\u001b[0m \u001b[0;32melse\u001b[0m \u001b[0mself\u001b[0m\u001b[0;34m.\u001b[0m\u001b[0mcv_loader\u001b[0m\u001b[0;34m\u001b[0m\u001b[0;34m\u001b[0m\u001b[0m\n\u001b[1;32m    165\u001b[0m         \u001b[0;32mfor\u001b[0m \u001b[0mbatch_id\u001b[0m\u001b[0;34m,\u001b[0m \u001b[0mbatch_info\u001b[0m \u001b[0;32min\u001b[0m \u001b[0menumerate\u001b[0m\u001b[0;34m(\u001b[0m\u001b[0mdata_loader\u001b[0m\u001b[0;34m.\u001b[0m\u001b[0mget_data_loader\u001b[0m\u001b[0;34m(\u001b[0m\u001b[0;34m)\u001b[0m\u001b[0;34m)\u001b[0m\u001b[0;34m:\u001b[0m\u001b[0;34m\u001b[0m\u001b[0;34m\u001b[0m\u001b[0m\n\u001b[0;32m--> 166\u001b[0;31m             \u001b[0mbatch_loss_res\u001b[0m \u001b[0;34m=\u001b[0m \u001b[0m_batch\u001b[0m\u001b[0;34m(\u001b[0m\u001b[0mbatch_id\u001b[0m\u001b[0;34m,\u001b[0m \u001b[0mbatch_info\u001b[0m\u001b[0;34m)\u001b[0m\u001b[0;34m\u001b[0m\u001b[0;34m\u001b[0m\u001b[0m\n\u001b[0m\u001b[1;32m    167\u001b[0m             \u001b[0mtotal_loss\u001b[0m \u001b[0;34m+=\u001b[0m \u001b[0mbatch_loss_res\u001b[0m\u001b[0;34m\u001b[0m\u001b[0;34m\u001b[0m\u001b[0m\n\u001b[1;32m    168\u001b[0m             \u001b[0mgc\u001b[0m\u001b[0;34m.\u001b[0m\u001b[0mcollect\u001b[0m\u001b[0;34m(\u001b[0m\u001b[0;34m)\u001b[0m\u001b[0;34m\u001b[0m\u001b[0;34m\u001b[0m\u001b[0m\n",
      "\u001b[0;32m/workspace/SE_2022/model_experiment/db-aiat/training_script/solver_merge.py\u001b[0m in \u001b[0;36m_batch\u001b[0;34m(_, batch_info)\u001b[0m\n\u001b[1;32m    149\u001b[0m \u001b[0;34m\u001b[0m\u001b[0m\n\u001b[1;32m    150\u001b[0m                 \u001b[0mself\u001b[0m\u001b[0;34m.\u001b[0m\u001b[0moptimizer\u001b[0m\u001b[0;34m.\u001b[0m\u001b[0mzero_grad\u001b[0m\u001b[0;34m(\u001b[0m\u001b[0;34m)\u001b[0m\u001b[0;34m\u001b[0m\u001b[0;34m\u001b[0m\u001b[0m\n\u001b[0;32m--> 151\u001b[0;31m                 \u001b[0mbatch_loss\u001b[0m\u001b[0;34m.\u001b[0m\u001b[0mbackward\u001b[0m\u001b[0;34m(\u001b[0m\u001b[0;34m)\u001b[0m\u001b[0;34m\u001b[0m\u001b[0;34m\u001b[0m\u001b[0m\n\u001b[0m\u001b[1;32m    152\u001b[0m                 \u001b[0mself\u001b[0m\u001b[0;34m.\u001b[0m\u001b[0moptimizer\u001b[0m\u001b[0;34m.\u001b[0m\u001b[0mstep\u001b[0m\u001b[0;34m(\u001b[0m\u001b[0;34m)\u001b[0m\u001b[0;34m\u001b[0m\u001b[0;34m\u001b[0m\u001b[0m\n\u001b[1;32m    153\u001b[0m             \u001b[0;32melse\u001b[0m\u001b[0;34m:\u001b[0m\u001b[0;34m\u001b[0m\u001b[0;34m\u001b[0m\u001b[0m\n",
      "\u001b[0;32m/opt/conda/lib/python3.7/site-packages/torch/_tensor.py\u001b[0m in \u001b[0;36mbackward\u001b[0;34m(self, gradient, retain_graph, create_graph, inputs)\u001b[0m\n\u001b[1;32m    305\u001b[0m                 \u001b[0mcreate_graph\u001b[0m\u001b[0;34m=\u001b[0m\u001b[0mcreate_graph\u001b[0m\u001b[0;34m,\u001b[0m\u001b[0;34m\u001b[0m\u001b[0;34m\u001b[0m\u001b[0m\n\u001b[1;32m    306\u001b[0m                 inputs=inputs)\n\u001b[0;32m--> 307\u001b[0;31m         \u001b[0mtorch\u001b[0m\u001b[0;34m.\u001b[0m\u001b[0mautograd\u001b[0m\u001b[0;34m.\u001b[0m\u001b[0mbackward\u001b[0m\u001b[0;34m(\u001b[0m\u001b[0mself\u001b[0m\u001b[0;34m,\u001b[0m \u001b[0mgradient\u001b[0m\u001b[0;34m,\u001b[0m \u001b[0mretain_graph\u001b[0m\u001b[0;34m,\u001b[0m \u001b[0mcreate_graph\u001b[0m\u001b[0;34m,\u001b[0m \u001b[0minputs\u001b[0m\u001b[0;34m=\u001b[0m\u001b[0minputs\u001b[0m\u001b[0;34m)\u001b[0m\u001b[0;34m\u001b[0m\u001b[0;34m\u001b[0m\u001b[0m\n\u001b[0m\u001b[1;32m    308\u001b[0m \u001b[0;34m\u001b[0m\u001b[0m\n\u001b[1;32m    309\u001b[0m     \u001b[0;32mdef\u001b[0m \u001b[0mregister_hook\u001b[0m\u001b[0;34m(\u001b[0m\u001b[0mself\u001b[0m\u001b[0;34m,\u001b[0m \u001b[0mhook\u001b[0m\u001b[0;34m)\u001b[0m\u001b[0;34m:\u001b[0m\u001b[0;34m\u001b[0m\u001b[0;34m\u001b[0m\u001b[0m\n",
      "\u001b[0;32m/opt/conda/lib/python3.7/site-packages/torch/autograd/__init__.py\u001b[0m in \u001b[0;36mbackward\u001b[0;34m(tensors, grad_tensors, retain_graph, create_graph, grad_variables, inputs)\u001b[0m\n\u001b[1;32m    154\u001b[0m     Variable._execution_engine.run_backward(\n\u001b[1;32m    155\u001b[0m         \u001b[0mtensors\u001b[0m\u001b[0;34m,\u001b[0m \u001b[0mgrad_tensors_\u001b[0m\u001b[0;34m,\u001b[0m \u001b[0mretain_graph\u001b[0m\u001b[0;34m,\u001b[0m \u001b[0mcreate_graph\u001b[0m\u001b[0;34m,\u001b[0m \u001b[0minputs\u001b[0m\u001b[0;34m,\u001b[0m\u001b[0;34m\u001b[0m\u001b[0;34m\u001b[0m\u001b[0m\n\u001b[0;32m--> 156\u001b[0;31m         allow_unreachable=True, accumulate_grad=True)  # allow_unreachable flag\n\u001b[0m\u001b[1;32m    157\u001b[0m \u001b[0;34m\u001b[0m\u001b[0m\n\u001b[1;32m    158\u001b[0m \u001b[0;34m\u001b[0m\u001b[0m\n",
      "\u001b[0;31mKeyboardInterrupt\u001b[0m: "
     ]
    }
   ],
   "source": [
    "\n",
    "solver.train()"
   ]
  },
  {
   "cell_type": "code",
   "execution_count": null,
   "metadata": {},
   "outputs": [],
   "source": []
  }
 ],
 "metadata": {
  "interpreter": {
   "hash": "d4d1e4263499bec80672ea0156c357c1ee493ec2b1c70f0acce89fc37c4a6abe"
  },
  "kernelspec": {
   "display_name": "Python 3.7.11 ('base')",
   "language": "python",
   "name": "python3"
  },
  "language_info": {
   "codemirror_mode": {
    "name": "ipython",
    "version": 3
   },
   "file_extension": ".py",
   "mimetype": "text/x-python",
   "name": "python",
   "nbconvert_exporter": "python",
   "pygments_lexer": "ipython3",
   "version": "3.7.11"
  },
  "orig_nbformat": 4
 },
 "nbformat": 4,
 "nbformat_minor": 2
}
