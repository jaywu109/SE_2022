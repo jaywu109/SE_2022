{
 "cells": [
  {
   "cell_type": "code",
   "execution_count": 1,
   "metadata": {},
   "outputs": [],
   "source": [
    "import torch"
   ]
  },
  {
   "cell_type": "code",
   "execution_count": 2,
   "metadata": {},
   "outputs": [],
   "source": [
    "ckpt = torch.load('/workspace/SE_2022/model_experiment/db-aiat/training_script/CP_dir/checkpoint_early_exit_7th.pth.tar')"
   ]
  },
  {
   "cell_type": "code",
   "execution_count": 11,
   "metadata": {},
   "outputs": [
    {
     "name": "stdout",
     "output_type": "stream",
     "text": [
      "1th\n"
     ]
    },
    {
     "data": {
      "text/plain": [
       "(0.12996148780530797, 3.0354662736256914, 3.0690761759371585)"
      ]
     },
     "execution_count": 11,
     "metadata": {},
     "output_type": "execute_result"
    }
   ],
   "source": [
    "print('1th')\n",
    "ckpt['tr_loss'], ckpt['cv_loss'], ckpt['best_cv_loss']"
   ]
  },
  {
   "cell_type": "code",
   "execution_count": 13,
   "metadata": {},
   "outputs": [
    {
     "name": "stdout",
     "output_type": "stream",
     "text": [
      "2th\n"
     ]
    },
    {
     "data": {
      "text/plain": [
       "(0.1339823602043685, 3.0690761759371585, 3.0981830473907443)"
      ]
     },
     "execution_count": 13,
     "metadata": {},
     "output_type": "execute_result"
    }
   ],
   "source": [
    "print('2th')\n",
    "ckpt['tr_loss'], ckpt['cv_loss'], ckpt['best_cv_loss']"
   ]
  },
  {
   "cell_type": "code",
   "execution_count": 9,
   "metadata": {},
   "outputs": [
    {
     "name": "stdout",
     "output_type": "stream",
     "text": [
      "3th\n"
     ]
    },
    {
     "data": {
      "text/plain": [
       "(0.12996148780530797, 3.0354662736256914, 3.0690761759371585)"
      ]
     },
     "execution_count": 9,
     "metadata": {},
     "output_type": "execute_result"
    }
   ],
   "source": [
    "print('3th')\n",
    "ckpt['tr_loss'], ckpt['cv_loss'], ckpt['best_cv_loss']"
   ]
  },
  {
   "cell_type": "code",
   "execution_count": 7,
   "metadata": {},
   "outputs": [
    {
     "name": "stdout",
     "output_type": "stream",
     "text": [
      "4th\n"
     ]
    },
    {
     "data": {
      "text/plain": [
       "(0.12758908122379506, 3.0769146583275417, 3.0354662736256914)"
      ]
     },
     "execution_count": 7,
     "metadata": {},
     "output_type": "execute_result"
    }
   ],
   "source": [
    "print('4th')\n",
    "ckpt['tr_loss'], ckpt['cv_loss'], ckpt['best_cv_loss']"
   ]
  },
  {
   "cell_type": "code",
   "execution_count": 3,
   "metadata": {},
   "outputs": [
    {
     "name": "stdout",
     "output_type": "stream",
     "text": [
      "5th\n"
     ]
    },
    {
     "data": {
      "text/plain": [
       "(0.12585908025515183, 3.062555950320884, 3.0354662736256914)"
      ]
     },
     "execution_count": 3,
     "metadata": {},
     "output_type": "execute_result"
    }
   ],
   "source": [
    "print('5th')\n",
    "ckpt['tr_loss'], ckpt['cv_loss'], ckpt['best_cv_loss']"
   ]
  },
  {
   "cell_type": "code",
   "execution_count": 4,
   "metadata": {},
   "outputs": [
    {
     "name": "stdout",
     "output_type": "stream",
     "text": [
      "6th\n"
     ]
    },
    {
     "data": {
      "text/plain": [
       "(0.1241335868663953, 3.0624232783526946, 3.0354662736256914)"
      ]
     },
     "execution_count": 4,
     "metadata": {},
     "output_type": "execute_result"
    }
   ],
   "source": [
    "print('6th')\n",
    "ckpt['tr_loss'], ckpt['cv_loss'], ckpt['best_cv_loss']"
   ]
  },
  {
   "cell_type": "code",
   "execution_count": 3,
   "metadata": {},
   "outputs": [
    {
     "name": "stdout",
     "output_type": "stream",
     "text": [
      "7th\n"
     ]
    },
    {
     "data": {
      "text/plain": [
       "(0.12284432098393601, 3.093209708046296, 3.0354662736256914)"
      ]
     },
     "execution_count": 3,
     "metadata": {},
     "output_type": "execute_result"
    }
   ],
   "source": [
    "print('7th')\n",
    "ckpt['tr_loss'], ckpt['cv_loss'], ckpt['best_cv_loss']"
   ]
  }
 ],
 "metadata": {
  "interpreter": {
   "hash": "d4d1e4263499bec80672ea0156c357c1ee493ec2b1c70f0acce89fc37c4a6abe"
  },
  "kernelspec": {
   "display_name": "Python 3.7.11 ('base')",
   "language": "python",
   "name": "python3"
  },
  "language_info": {
   "codemirror_mode": {
    "name": "ipython",
    "version": 3
   },
   "file_extension": ".py",
   "mimetype": "text/x-python",
   "name": "python",
   "nbconvert_exporter": "python",
   "pygments_lexer": "ipython3",
   "version": "3.7.11"
  },
  "orig_nbformat": 4
 },
 "nbformat": 4,
 "nbformat_minor": 2
}
