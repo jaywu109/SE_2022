{
 "cells": [
  {
   "cell_type": "code",
   "execution_count": 1,
   "metadata": {},
   "outputs": [],
   "source": [
    "import warnings\n",
    "warnings.simplefilter(\"ignore\", UserWarning)\n",
    "\n",
    "import torch\n",
    "import librosa\n",
    "import os\n",
    "import numpy as np\n",
    "import numpy as npb\n",
    "from tqdm import tqdm\n",
    "from istft import ISTFT\n",
    "from aia_trans import aia_complex_trans_mag, aia_complex_trans_ri, dual_aia_trans_merge_crm\n",
    "import soundfile as sf"
   ]
  },
  {
   "cell_type": "code",
   "execution_count": 2,
   "metadata": {},
   "outputs": [],
   "source": [
    "class Enhance:\n",
    "    def __init__(self, args):\n",
    "        self.model = dual_aia_trans_merge_crm()\n",
    "        checkpoint = torch.load(args['Model_path'])\n",
    "        self.model.load_state_dict(checkpoint)\n",
    "        self.model.eval()\n",
    "        self.model.cuda()\n",
    "        self.istft = ISTFT(filter_length=320, hop_length=160, window='hanning')\n",
    "        self.fs = args['fs']\n",
    "\n",
    "    def enhance(self, noise_file_path, clean_file_path):\n",
    "        with torch.no_grad():\n",
    "            feat_wav, _ = sf.read(noise_file_path)\n",
    "            c = np.sqrt(len(feat_wav) / np.sum((feat_wav ** 2.0)))\n",
    "            feat_wav = feat_wav * c\n",
    "            wav_len = len(feat_wav)\n",
    "            frame_num = int(np.ceil((wav_len - 320 + 320) / 160 + 1))\n",
    "            fake_wav_len = (frame_num - 1) * 160 + 320 - 320\n",
    "            left_sample = fake_wav_len - wav_len\n",
    "            feat_wav = torch.FloatTensor(np.concatenate((feat_wav, np.zeros([left_sample])), axis=0))\n",
    "            feat_x = torch.stft(feat_wav.unsqueeze(dim=0), n_fft=320, hop_length=160, win_length=320,\n",
    "                                window=torch.hann_window(320)).permute(0, 3, 2, 1)\n",
    "            noisy_phase = torch.atan2(feat_x[:, -1, :, :], feat_x[:, 0, :, :])\n",
    "            feat_x_mag = (torch.norm(feat_x, dim=1)) ** 0.5\n",
    "            feat_x = torch.stack((feat_x_mag * torch.cos(noisy_phase), feat_x_mag * torch.sin(noisy_phase)), dim=1)\n",
    "            esti_x = self.model(feat_x.cuda())\n",
    "            esti_mag, esti_phase = torch.norm(esti_x, dim=1), torch.atan2(esti_x[:, -1, :, :],\n",
    "                                                                            esti_x[:, 0, :, :])\n",
    "            esti_mag = esti_mag ** 2\n",
    "            esti_com = torch.stack((esti_mag * torch.cos(esti_phase), esti_mag * torch.sin(esti_phase)), dim=1)\n",
    "            esti_com = esti_com.cpu()\n",
    "            esti_utt = self.istft(esti_com).squeeze().numpy()\n",
    "            esti_utt = esti_utt[:wav_len]\n",
    "            esti_utt = esti_utt / c\n",
    "            sf.write(clean_file_path, esti_utt, args['fs'])"
   ]
  },
  {
   "cell_type": "code",
   "execution_count": null,
   "metadata": {},
   "outputs": [],
   "source": [
    "def enhance_ri(args, noise_file_path, clean_file_path):\n",
    "    model = aia_complex_trans_ri()\n",
    "    checkpoint = torch.load(args['Model_path'])['model_state_dict']\n",
    "    model.load_state_dict(checkpoint)\n",
    "    print(model)\n",
    "    model.eval()\n",
    "    model.cuda()\n",
    "\n",
    "    with torch.no_grad():\n",
    "        cnt = 0\n",
    "        mix_file_path = noise_file_path\n",
    "        esti_file_path = clean_file_path\n",
    "        file_list = os.listdir(mix_file_path)\n",
    "        istft = ISTFT(filter_length=320, hop_length=160, window='hanning')\n",
    "        for file_id in file_list:\n",
    "            feat_wav, _ = sf.read(os.path.join(mix_file_path, file_id))\n",
    "            c = np.sqrt(len(feat_wav) / np.sum((feat_wav ** 2.0)))\n",
    "            feat_wav = feat_wav * c\n",
    "            wav_len = len(feat_wav)\n",
    "            frame_num = int(np.ceil((wav_len - 320 + 320) / 160 + 1))\n",
    "            fake_wav_len = (frame_num - 1) * 160 + 320 - 320\n",
    "            left_sample = fake_wav_len - wav_len\n",
    "            feat_wav = torch.FloatTensor(np.concatenate((feat_wav, np.zeros([left_sample])), axis=0))\n",
    "            feat_x = torch.stft(feat_wav.unsqueeze(dim=0), n_fft=320, hop_length=160, win_length=320,\n",
    "                                window=torch.hann_window(320)).permute(0, 3, 2, 1)\n",
    "            noisy_phase = torch.atan2(feat_x[:, -1, :, :], feat_x[:, 0, :, :])\n",
    "            feat_x_mag = (torch.norm(feat_x, dim=1)) ** 0.5\n",
    "            feat_x = torch.stack((feat_x_mag * torch.cos(noisy_phase), feat_x_mag * torch.sin(noisy_phase)), dim=1)\n",
    "            esti_x = model(feat_x.cuda())\n",
    "            esti_mag, esti_phase = torch.norm(esti_x, dim=1), torch.atan2(esti_x[:, -1, :, :],\n",
    "                                                                             esti_x[:, 0, :, :])\n",
    "            esti_mag = esti_mag ** 2\n",
    "            esti_com = torch.stack((esti_mag * torch.cos(esti_phase), esti_mag * torch.sin(esti_phase)), dim=1)\n",
    "            esti_com = esti_com.cpu()\n",
    "            esti_utt = istft(esti_com).squeeze().numpy()\n",
    "            esti_utt = esti_utt[:wav_len]\n",
    "            esti_utt = esti_utt / c\n",
    "            os.makedirs(os.path.join(esti_file_path), exist_ok=True)\n",
    "            sf.write(os.path.join(esti_file_path, file_id), esti_utt, args['fs'])\n",
    "            print(' The %d utterance has been decoded!' % (cnt + 1))\n",
    "            cnt += 1"
   ]
  },
  {
   "cell_type": "code",
   "execution_count": 3,
   "metadata": {},
   "outputs": [],
   "source": [
    "args = {}\n",
    "args['Model_path'] = '/workspace/SE_2022/model_experiment/db-aiat/DB-AIAT/BEST_MODEL/vb_aia_merge_new.pth.tar'\n",
    "args['fs'] = 16000\n",
    "os.environ['CUDA_VISIBLE_DEVICES'] = '1,2'\n",
    "\n",
    "enhance_model = Enhance(args)\n",
    "    "
   ]
  },
  {
   "cell_type": "markdown",
   "metadata": {},
   "source": [
    "### Prediction"
   ]
  },
  {
   "cell_type": "code",
   "execution_count": 4,
   "metadata": {},
   "outputs": [
    {
     "name": "stderr",
     "output_type": "stream",
     "text": [
      "100%|██████████| 1000/1000 [05:38<00:00,  2.95it/s]\n"
     ]
    }
   ],
   "source": [
    "root = '/workspace/data/test'\n",
    "output_dir = '/workspace/output_data/db-aiat/test'\n",
    "\n",
    "for flac_name in tqdm(os.listdir(root)):\n",
    "    if flac_name.endswith('.flac'):\n",
    "        number = flac_name.split('_')[1]\n",
    "        clean_file_name = 'vocal_'+ number + '.flac'\n",
    "        noise_file_path = os.path.join(root, flac_name)\n",
    "        clean_file_path = os.path.join(output_dir, clean_file_name)\n",
    "        try:\n",
    "            enhance_model.enhance(noise_file_path, clean_file_path)\n",
    "        except:\n",
    "            print('Error:', flac_name)"
   ]
  },
  {
   "cell_type": "code",
   "execution_count": null,
   "metadata": {},
   "outputs": [],
   "source": [
    "root = '/workspace/data/train'\n",
    "output_dir = '/workspace/output_data/metricgan/train'\n",
    "\n",
    "for flac_name in tqdm(os.listdir(root)):\n",
    "    if flac_name.endswith('.flac'):\n",
    "        if flac_name.split('_')[0] == 'mixed':\n",
    "            number = flac_name.split('_')[1]\n",
    "            clean_file_name = 'vocal_'+ number + '.flac'\n",
    "            noise_file_path = os.path.join(root, flac_name)\n",
    "            clean_file_path = os.path.join(output_dir, clean_file_name)\n",
    "            try:\n",
    "                enhance_model.enhance(noise_file_path, clean_file_path)\n",
    "            except:\n",
    "                print('Error:', flac_name)"
   ]
  }
 ],
 "metadata": {
  "interpreter": {
   "hash": "d4d1e4263499bec80672ea0156c357c1ee493ec2b1c70f0acce89fc37c4a6abe"
  },
  "kernelspec": {
   "display_name": "Python 3.7.11 ('base')",
   "language": "python",
   "name": "python3"
  },
  "language_info": {
   "codemirror_mode": {
    "name": "ipython",
    "version": 3
   },
   "file_extension": ".py",
   "mimetype": "text/x-python",
   "name": "python",
   "nbconvert_exporter": "python",
   "pygments_lexer": "ipython3",
   "version": "3.7.11"
  },
  "orig_nbformat": 4
 },
 "nbformat": 4,
 "nbformat_minor": 2
}
