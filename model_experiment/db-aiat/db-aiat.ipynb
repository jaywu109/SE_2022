{
 "cells": [
  {
   "cell_type": "code",
   "execution_count": 1,
   "metadata": {},
   "outputs": [],
   "source": [
    "import os\n",
    "os.environ['CUDA_VISIBLE_DEVICES'] = '0, 1,2'\n",
    "\n",
    "import warnings\n",
    "warnings.simplefilter(\"ignore\", UserWarning)\n",
    "\n",
    "import torch\n",
    "import torchaudio\n",
    "import librosa\n",
    "import time\n",
    "import pickle\n",
    "from pesq import pesq\n",
    "import numpy as np\n",
    "import numpy as npb\n",
    "from tqdm import tqdm\n",
    "from istft import ISTFT\n",
    "from aia_trans import aia_complex_trans_mag, aia_complex_trans_ri, dual_aia_trans_merge_crm\n",
    "import soundfile as sf\n",
    "import multiprocessing\n",
    "from collections import OrderedDict"
   ]
  },
  {
   "cell_type": "code",
   "execution_count": 2,
   "metadata": {},
   "outputs": [],
   "source": [
    "class Enhance:\n",
    "    def __init__(self, args):\n",
    "        self.model = dual_aia_trans_merge_crm()\n",
    "        checkpoint = torch.load(args['Model_path'])\n",
    "\n",
    "        state_dict = checkpoint['model_state_dict']\n",
    "        new_state_dict = OrderedDict()\n",
    "        for k, v in state_dict.items():\n",
    "            name = k[7:] # remove `module.`\n",
    "            new_state_dict[name] = v   \n",
    "        self.model.load_state_dict(new_state_dict)\n",
    "\n",
    "        self.model.eval()\n",
    "        self.model.cuda()\n",
    "        self.istft = ISTFT(filter_length=320, hop_length=160, window='hanning')\n",
    "        self.fs = args['fs']\n",
    "\n",
    "    def enhance(self, noise_file_path, clean_file_path):\n",
    "        with torch.no_grad():\n",
    "            feat_wav, _ = sf.read(noise_file_path)\n",
    "            c = np.sqrt(len(feat_wav) / np.sum((feat_wav ** 2.0)))\n",
    "            feat_wav = feat_wav * c\n",
    "            wav_len = len(feat_wav)\n",
    "            frame_num = int(np.ceil((wav_len - 320 + 320) / 160 + 1))\n",
    "            fake_wav_len = (frame_num - 1) * 160 + 320 - 320\n",
    "            left_sample = fake_wav_len - wav_len\n",
    "            feat_wav = torch.FloatTensor(np.concatenate((feat_wav, np.zeros([left_sample])), axis=0))\n",
    "            feat_x = torch.stft(feat_wav.unsqueeze(dim=0), n_fft=320, hop_length=160, win_length=320,\n",
    "                                window=torch.hann_window(320)).permute(0, 3, 2, 1)\n",
    "            noisy_phase = torch.atan2(feat_x[:, -1, :, :], feat_x[:, 0, :, :])\n",
    "            feat_x_mag = (torch.norm(feat_x, dim=1)) ** 0.5\n",
    "            feat_x = torch.stack((feat_x_mag * torch.cos(noisy_phase), feat_x_mag * torch.sin(noisy_phase)), dim=1)\n",
    "            esti_x = self.model(feat_x.cuda())\n",
    "            esti_mag, esti_phase = torch.norm(esti_x, dim=1), torch.atan2(esti_x[:, -1, :, :],\n",
    "                                                                            esti_x[:, 0, :, :])\n",
    "            esti_mag = esti_mag ** 2\n",
    "            esti_com = torch.stack((esti_mag * torch.cos(esti_phase), esti_mag * torch.sin(esti_phase)), dim=1)\n",
    "            esti_com = esti_com.cpu()\n",
    "            esti_utt = self.istft(esti_com).squeeze().detach().numpy()\n",
    "            esti_utt = esti_utt[:wav_len]\n",
    "            esti_utt = esti_utt / c\n",
    "            sf.write(clean_file_path, esti_utt, args['fs'])"
   ]
  },
  {
   "cell_type": "code",
   "execution_count": 3,
   "metadata": {},
   "outputs": [],
   "source": [
    "###\n",
    "with open('/workspace/SE_2022/train_noise_by_type.pkl', 'rb') as f:\n",
    "    train_noise = pickle.load(f)\n",
    "\n",
    "with open('/workspace/SE_2022/val_noise_by_type.pkl', 'rb') as f:\n",
    "    val_noise = pickle.load(f)\n",
    "\n",
    "with open('/workspace/SE_2022/train_map.pkl', 'rb') as f:\n",
    "    noise_clean_map = pickle.load(f)"
   ]
  },
  {
   "cell_type": "code",
   "execution_count": 4,
   "metadata": {},
   "outputs": [],
   "source": [
    "\n",
    "with open('/workspace/SE_2022/test_noise_by_type.pkl', 'rb') as f:\n",
    "    test_noise = pickle.load(f)"
   ]
  },
  {
   "cell_type": "code",
   "execution_count": 5,
   "metadata": {},
   "outputs": [],
   "source": [
    "# data_type = 'blower'  \n",
    "\n",
    "\n",
    "# noise_path_list = []\n",
    "# for path in (val_noise[data_type]):\n",
    "#     noise_path = '/workspace/SE/data/train/' + path\n",
    "#     noise_path_list.append(noise_path)\n",
    "\n",
    "# args = {}\n",
    "# args['Model_path'] = f'/workspace/model_new_best/{data_type}.pth.tar'\n",
    "# args['fs'] = 16000\n",
    "\n",
    "# enhance_model = Enhance(args)"
   ]
  },
  {
   "cell_type": "code",
   "execution_count": 6,
   "metadata": {},
   "outputs": [
    {
     "name": "stderr",
     "output_type": "stream",
     "text": [
      "100%|██████████| 21/21 [09:22<00:00, 26.80s/it]\n"
     ]
    }
   ],
   "source": [
    "output_dir = '/workspace/output_data/new_best/test'\n",
    "\n",
    "for data_type in tqdm(list(test_noise.keys())):\n",
    "    noise_path_list = []\n",
    "    for path in (test_noise[data_type]):\n",
    "        noise_path = '/workspace/SE/data/test/' + path\n",
    "        noise_path_list.append(noise_path)\n",
    "        args = {}\n",
    "        if data_type == 'grinding':\n",
    "            args['Model_path'] = '/workspace/grinding.pth.tar'          \n",
    "        else:\n",
    "            args['Model_path'] = f'/workspace/model_new_best/{data_type}.pth.tar'\n",
    "        args['fs'] = 16000\n",
    "\n",
    "        enhance_model = Enhance(args)        \n",
    "\n",
    "\n",
    "    for noise_file_path in noise_path_list:\n",
    "        if noise_file_path.endswith('.flac'):\n",
    "\n",
    "            number = noise_file_path.split('_')[1]\n",
    "            clean_file_name = 'vocal_'+ number + '.flac'\n",
    "            clean_file_path = os.path.join(output_dir, clean_file_name)\n",
    "            try:\n",
    "                enhance_model.enhance(noise_file_path, clean_file_path)\n",
    "            except:\n",
    "                print('Error:', noise_file_path)        "
   ]
  },
  {
   "cell_type": "markdown",
   "metadata": {},
   "source": [
    "### Prediction"
   ]
  },
  {
   "cell_type": "markdown",
   "metadata": {},
   "source": [
    "### Prediction"
   ]
  },
  {
   "cell_type": "code",
   "execution_count": 42,
   "metadata": {},
   "outputs": [
    {
     "name": "stderr",
     "output_type": "stream",
     "text": [
      "100%|██████████| 166/166 [00:50<00:00,  3.27it/s]\n"
     ]
    }
   ],
   "source": [
    "output_dir = '/workspace/output_data/new_best/val'\n",
    "\n",
    "for noise_file_path in tqdm(noise_path_list):\n",
    "    if noise_file_path.endswith('.flac'):\n",
    "        if  noise_file_path == '/workspace/SE/data/train/mixed_02522_blower.flac':\n",
    "            continue\n",
    "\n",
    "        number = noise_file_path.split('_')[1]\n",
    "        clean_file_name = 'vocal_'+ number + '.flac'\n",
    "        clean_file_path = os.path.join(output_dir, clean_file_name)\n",
    "        try:\n",
    "            enhance_model.enhance(noise_file_path, clean_file_path)\n",
    "        except:\n",
    "            print('Error:', noise_file_path)"
   ]
  },
  {
   "cell_type": "markdown",
   "metadata": {},
   "source": [
    "### Evaluation"
   ]
  },
  {
   "cell_type": "code",
   "execution_count": 43,
   "metadata": {},
   "outputs": [],
   "source": [
    "import os\n",
    "import time\n",
    "from unittest import result\n",
    "from tqdm import tqdm\n",
    "# import tqdm\n",
    "# import tqdm.asyncio\n",
    "import numpy as np\n",
    "import soundfile as sf\n",
    "import pickle\n",
    "import multiprocessing\n",
    "\n",
    "import torch\n",
    "import torchaudio\n",
    "\n",
    "from pesq import pesq\n",
    "\n",
    "def get_pesq(ref_file_path, deg_file_path):\n",
    "    clean, _ = sf.read(ref_file_path)\n",
    "    noise, rate = sf.read(deg_file_path)\n",
    "    try:\n",
    "        return pesq(16000, clean, noise, 'wb')\n",
    "    except:\n",
    "        return 0"
   ]
  },
  {
   "cell_type": "code",
   "execution_count": 44,
   "metadata": {},
   "outputs": [],
   "source": [
    "result_dict = {}\n",
    "\n",
    "output_dir = '/workspace/output_data/new_best/val'\n",
    "true_dir = '/workspace/SE/data/train'\n",
    "\n",
    "# for data_type in tqdm(list(val_noise.keys())):\n",
    "noise_path_list = []\n",
    "for path in (val_noise[data_type]):\n",
    "    noise_path = '/workspace/SE/data/train/' + path\n",
    "    noise_path_list.append(noise_path)\n",
    "\n",
    "args = []\n",
    "for noise_file_path in noise_path_list:\n",
    "    if noise_file_path.endswith('.flac'):\n",
    "        if  noise_file_path == '/workspace/SE/data/train/mixed_02522_blower.flac':\n",
    "            continue\n",
    "\n",
    "        number = noise_file_path.split('_')[1]\n",
    "        clean_file_name = 'vocal_'+ number + '.flac'\n",
    "        clean_file_path = os.path.join(output_dir, clean_file_name)\n",
    "        true_file_path = os.path.join(true_dir, clean_file_name)\n",
    "        args.append((true_file_path, clean_file_path))\n",
    "pool = multiprocessing.Pool(processes=60)\n",
    "results =pool.starmap_async(get_pesq, args)\n",
    "score = np.array(results.get())\n",
    "pool.close()\n",
    "pool.join()\n",
    "result_dict[data_type] = [score.sum(), len(noise_path_list)]"
   ]
  },
  {
   "cell_type": "code",
   "execution_count": 45,
   "metadata": {},
   "outputs": [
    {
     "data": {
      "text/plain": [
       "{'blower': [474.3190757036209, 166]}"
      ]
     },
     "execution_count": 45,
     "metadata": {},
     "output_type": "execute_result"
    }
   ],
   "source": [
    "result_dict"
   ]
  },
  {
   "cell_type": "code",
   "execution_count": 96,
   "metadata": {},
   "outputs": [
    {
     "name": "stdout",
     "output_type": "stream",
     "text": [
      "air_conditioner average score: 2.882402257026295\n",
      "blower average score: 2.7714439228356604\n",
      "car_horn average score: 2.8317565077988704\n",
      "children_playing average score: 3.0695928377613053\n",
      "cleaner average score: 2.4125387690024462\n",
      "dog_bark average score: 3.3749859715953017\n",
      "drilling average score: 2.5962354975087303\n",
      "engine_idling average score: 2.860425354747161\n",
      "fan average score: 2.4821400877958286\n",
      "garbage_truck average score: 3.1284913851554137\n",
      "grinding average score: 2.2864224569099707\n",
      "gun_shot average score: 2.7649630994763053\n",
      "jackhammer average score: 2.360905850005007\n",
      "market average score: 1.948142236973866\n",
      "music average score: 2.380946582736391\n",
      "rainy average score: 3.2969092337671153\n",
      "siren average score: 3.543262479547969\n",
      "street_music average score: 2.607016674535615\n",
      "traffic average score: 2.535739555503383\n",
      "train average score: 2.1933772362858415\n",
      "silence average score: 4.598791903637825\n"
     ]
    }
   ],
   "source": [
    "for name, value in result_dict.items():\n",
    "    print(f'{name} average score: {value[0]/value[1]}')"
   ]
  },
  {
   "cell_type": "code",
   "execution_count": 92,
   "metadata": {},
   "outputs": [
    {
     "data": {
      "text/plain": [
       "{'air_conditioner': [863.5438184738159, 283],\n",
       " 'blower': [455.8149915933609, 166],\n",
       " 'car_horn': [795.7235786914825, 281],\n",
       " 'children_playing': [899.303745508194, 281],\n",
       " 'cleaner': [389.9822087287903, 167],\n",
       " 'dog_bark': [569.8560967445374, 165],\n",
       " 'drilling': [726.9459393024445, 280],\n",
       " 'engine_idling': [835.0588532686234, 281],\n",
       " 'fan': [407.46159875392914, 167],\n",
       " 'garbage_truck': [523.5132936239243, 166],\n",
       " 'grinding': [356.7650239467621, 164],\n",
       " 'gun_shot': [782.4845571517944, 283],\n",
       " 'jackhammer': [392.4669420719147, 167],\n",
       " 'market': [321.21466636657715, 166],\n",
       " 'music': [404.53263568878174, 165],\n",
       " 'rainy': [542.7403056621552, 167],\n",
       " 'siren': [588.2848097085953, 167],\n",
       " 'street_music': [773.07677090168, 280],\n",
       " 'traffic': [423.7632557153702, 165],\n",
       " 'train': [378.3397938013077, 166],\n",
       " 'silence': [216.14321947097778, 47]}"
      ]
     },
     "execution_count": 92,
     "metadata": {},
     "output_type": "execute_result"
    }
   ],
   "source": [
    "result_dict"
   ]
  },
  {
   "cell_type": "code",
   "execution_count": null,
   "metadata": {},
   "outputs": [],
   "source": [
    "args = []\n",
    "for flac_name in os.listdir(deg_root):\n",
    "    if flac_name.endswith('.flac'):\n",
    "        if flac_name.split('_')[0] == 'mixed':\n",
    "            number = flac_name.split('_')[1]\n",
    "            clean_file_name = 'vocal_'+ number + '.flac'\n",
    "            noise_file_path = os.path.join(deg_root, flac_name)\n",
    "            clean_file_path = os.path.join(ref_root, clean_file_name)\n",
    "            args.append((noise_file_path, clean_file_path))\n",
    "pool = multiprocessing.Pool(processes=60)\n",
    "results =pool.starmap_async(get_pesq, args)\n",
    "score = results.get()\n",
    "pool.close()\n",
    "pool.join()        "
   ]
  }
 ],
 "metadata": {
  "interpreter": {
   "hash": "d4d1e4263499bec80672ea0156c357c1ee493ec2b1c70f0acce89fc37c4a6abe"
  },
  "kernelspec": {
   "display_name": "Python 3.7.11 ('base')",
   "language": "python",
   "name": "python3"
  },
  "language_info": {
   "codemirror_mode": {
    "name": "ipython",
    "version": 3
   },
   "file_extension": ".py",
   "mimetype": "text/x-python",
   "name": "python",
   "nbconvert_exporter": "python",
   "pygments_lexer": "ipython3",
   "version": "3.7.11"
  },
  "orig_nbformat": 4
 },
 "nbformat": 4,
 "nbformat_minor": 2
}
